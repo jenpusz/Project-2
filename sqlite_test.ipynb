{
 "cells": [
  {
   "cell_type": "code",
   "execution_count": 1,
   "id": "9bfc62c3",
   "metadata": {},
   "outputs": [],
   "source": [
    "%matplotlib inline\n",
    "from matplotlib import style\n",
    "style.use('fivethirtyeight')\n",
    "import matplotlib.pyplot as plt"
   ]
  },
  {
   "cell_type": "code",
   "execution_count": null,
   "id": "c07777fb",
   "metadata": {},
   "outputs": [],
   "source": [
    "import numpy as np\n",
    "import pandas as pd\n",
    "import datetime as dt"
   ]
  },
  {
   "cell_type": "code",
   "execution_count": null,
   "id": "c6979740",
   "metadata": {},
   "outputs": [],
   "source": [
    "# Python SQL toolkit and Object Relational Mapper\n",
    "import sqlalchemy\n",
    "from sqlalchemy.ext.automap import automap_base\n",
    "from sqlalchemy.orm import Session\n",
    "from sqlalchemy import create_engine, inspect, func"
   ]
  },
  {
   "cell_type": "code",
   "execution_count": null,
   "id": "4320819c",
   "metadata": {},
   "outputs": [],
   "source": [
    "# create engine to hawaii.sqlite\n",
    "engine = create_engine(\"sqlite:///Resources/food_production.sqlite\")"
   ]
  },
  {
   "cell_type": "markdown",
   "id": "e75611f7",
   "metadata": {},
   "source": [
    "## Emissions"
   ]
  },
  {
   "cell_type": "code",
   "execution_count": null,
   "id": "ca284419",
   "metadata": {},
   "outputs": [],
   "source": [
    "#Greenhouse Gas emissions table\n",
    "GHG = pd.read_sql('SELECT', conn)\n",
    "GHG"
   ]
  },
  {
   "cell_type": "code",
   "execution_count": null,
   "id": "b2e51080",
   "metadata": {},
   "outputs": [],
   "source": [
    "#Emissions from Agriculture table\n",
    "agriculture_emissions = pd.read_sql('')"
   ]
  },
  {
   "cell_type": "markdown",
   "id": "5038c0c9",
   "metadata": {},
   "source": [
    "## Eutrophication"
   ]
  },
  {
   "cell_type": "code",
   "execution_count": null,
   "id": "ec121d0d",
   "metadata": {},
   "outputs": [],
   "source": [
    "regions = pd.read_sql('SELECT country, lat, long, classification FROM regions', conn)\n",
    "region.head()"
   ]
  },
  {
   "cell_type": "code",
   "execution_count": null,
   "id": "f6f52727",
   "metadata": {},
   "outputs": [],
   "source": [
    "food_production = pd.read_sql('SELECT Food_Product, Eutrophying_emissions_per_1000kcal,Eutrophying_emissions_per_kilogram,Eutrophying_emissions_per_100g_protein FROM food_production', conn)\n",
    "food_production.head()"
   ]
  },
  {
   "cell_type": "markdown",
   "id": "f999608f",
   "metadata": {},
   "source": [
    "## Temperature"
   ]
  },
  {
   "cell_type": "markdown",
   "id": "57ba4d20",
   "metadata": {},
   "source": [
    "## Export data to dictionary"
   ]
  },
  {
   "cell_type": "code",
   "execution_count": null,
   "id": "b24166d1",
   "metadata": {},
   "outputs": [],
   "source": [
    "#GHG dataframe\n",
    "ghg_emissions_dict = ghg_emissions.to_dict(orient='records')"
   ]
  },
  {
   "cell_type": "code",
   "execution_count": null,
   "id": "43c8c401",
   "metadata": {},
   "outputs": [],
   "source": [
    "ghg_emissions_dict"
   ]
  },
  {
   "cell_type": "code",
   "execution_count": null,
   "id": "3979d1a3",
   "metadata": {},
   "outputs": [],
   "source": [
    "#Emissions by Sector dataframe\n",
    "emissions_by_sector_dict = emissions_by_sector.to_dict(orient='records')"
   ]
  },
  {
   "cell_type": "code",
   "execution_count": null,
   "id": "01ea9eb2",
   "metadata": {},
   "outputs": [],
   "source": [
    "emissions_by_sector_dict"
   ]
  }
 ],
 "metadata": {
  "kernelspec": {
   "display_name": "Python 3",
   "language": "python",
   "name": "python3"
  },
  "language_info": {
   "codemirror_mode": {
    "name": "ipython",
    "version": 3
   },
   "file_extension": ".py",
   "mimetype": "text/x-python",
   "name": "python",
   "nbconvert_exporter": "python",
   "pygments_lexer": "ipython3",
   "version": "3.8.8"
  }
 },
 "nbformat": 4,
 "nbformat_minor": 5
}
