{
 "cells": [
  {
   "cell_type": "code",
   "execution_count": 1,
   "id": "1ab0983f",
   "metadata": {},
   "outputs": [],
   "source": [
    "import pandas as pd\n",
    "import sqlite3\n",
    "from matplotlib import pyplot as plt"
   ]
  },
  {
   "cell_type": "code",
   "execution_count": null,
   "id": "c52f7fa0",
   "metadata": {},
   "outputs": [],
   "source": [
    "conn = sqlite3.connect(\"database.sqlite\")"
   ]
  },
  {
   "cell_type": "code",
   "execution_count": null,
   "id": "4eaac9f8",
   "metadata": {},
   "outputs": [],
   "source": [
    "regions = pd.read_sql('SELECT country, lat, long, classification FROM regions', conn)\n",
    "region.head()"
   ]
  },
  {
   "cell_type": "code",
   "execution_count": null,
   "id": "de0c3c7b",
   "metadata": {},
   "outputs": [],
   "source": [
    "food_production = pd.read_sql('SELECT Food_Product, Eutrophying_emissions_per_1000kcal,Eutrophying_emissions_per_kilogram,Eutrophying_emissions_per_100g_protein FROM food_production', conn)\n",
    "food_production.head()"
   ]
  },
  {
   "cell_type": "code",
   "execution_count": null,
   "id": "538e3d5d",
   "metadata": {},
   "outputs": [],
   "source": [
    "regions_dict = regions.to_dict(orient='records')"
   ]
  },
  {
   "cell_type": "code",
   "execution_count": null,
   "id": "d5c9451d",
   "metadata": {},
   "outputs": [],
   "source": []
  }
 ],
 "metadata": {
  "kernelspec": {
   "display_name": "Python 3",
   "language": "python",
   "name": "python3"
  },
  "language_info": {
   "codemirror_mode": {
    "name": "ipython",
    "version": 3
   },
   "file_extension": ".py",
   "mimetype": "text/x-python",
   "name": "python",
   "nbconvert_exporter": "python",
   "pygments_lexer": "ipython3",
   "version": "3.8.8"
  }
 },
 "nbformat": 4,
 "nbformat_minor": 5
}
