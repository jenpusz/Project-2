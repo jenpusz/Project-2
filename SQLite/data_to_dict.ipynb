{
 "cells": [
  {
   "cell_type": "code",
   "execution_count": 1,
   "id": "48a0d527",
   "metadata": {},
   "outputs": [],
   "source": [
    "import pandas as pd\n",
    "import sqlite3\n",
    "from matplotlib import pyplot as plt"
   ]
  },
  {
   "cell_type": "code",
   "execution_count": null,
   "id": "16e9850e",
   "metadata": {},
   "outputs": [],
   "source": [
    "conn = sqlite3.connect(\"database.sqlite\")"
   ]
  },
  {
   "cell_type": "code",
   "execution_count": null,
   "id": "f8f78e3d",
   "metadata": {},
   "outputs": [],
   "source": [
    "regions = pd.read_sql('SELECT country, lat, long, classification FROM regions', conn)\n",
    "region.head()"
   ]
  },
  {
   "cell_type": "code",
   "execution_count": null,
   "id": "e9e108ac",
   "metadata": {},
   "outputs": [],
   "source": [
    "food_production = pd.read_sql('SELECT Food_Product, Eutrophying_emissions_per_1000kcal,Eutrophying_emissions_per_kilogram,Eutrophying_emissions_per_100g_protein FROM food_production', conn)\n",
    "food_production.head()"
   ]
  },
  {
   "cell_type": "code",
   "execution_count": null,
   "id": "8d173c3a",
   "metadata": {},
   "outputs": [],
   "source": [
    "regions_dict = regions.to_dict(orient='records')"
   ]
  },
  {
   "cell_type": "code",
   "execution_count": null,
   "id": "92010509",
   "metadata": {},
   "outputs": [],
   "source": [
    "regions"
   ]
  }
 ],
 "metadata": {
  "kernelspec": {
   "display_name": "Python 3",
   "language": "python",
   "name": "python3"
  },
  "language_info": {
   "codemirror_mode": {
    "name": "ipython",
    "version": 3
   },
   "file_extension": ".py",
   "mimetype": "text/x-python",
   "name": "python",
   "nbconvert_exporter": "python",
   "pygments_lexer": "ipython3",
   "version": "3.8.8"
  }
 },
 "nbformat": 4,
 "nbformat_minor": 5
}
